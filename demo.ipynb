{
 "cells": [
  {
   "cell_type": "code",
   "execution_count": 22,
   "metadata": {},
   "outputs": [
    {
     "name": "stdout",
     "output_type": "stream",
     "text": [
      "Requirement already satisfied: opencv-python in /Users/vandarag/anaconda3/envs/testcv/lib/python3.8/site-packages (4.9.0.80)\n",
      "Requirement already satisfied: numpy>=1.21.0 in /Users/vandarag/anaconda3/envs/testcv/lib/python3.8/site-packages (from opencv-python) (1.22.3)\n",
      "Note: you may need to restart the kernel to use updated packages.\n",
      "Requirement already satisfied: supervision in /Users/vandarag/anaconda3/envs/testcv/lib/python3.8/site-packages (0.17.1)\n",
      "Requirement already satisfied: matplotlib>=3.5.0 in /Users/vandarag/anaconda3/envs/testcv/lib/python3.8/site-packages (from supervision) (3.7.4)\n",
      "Requirement already satisfied: numpy>=1.21.2 in /Users/vandarag/anaconda3/envs/testcv/lib/python3.8/site-packages (from supervision) (1.22.3)\n",
      "Requirement already satisfied: opencv-python-headless<=4.8.1.78,>=4.5.5.64 in /Users/vandarag/anaconda3/envs/testcv/lib/python3.8/site-packages (from supervision) (4.8.1.78)\n",
      "Requirement already satisfied: pillow>=9.4 in /Users/vandarag/anaconda3/envs/testcv/lib/python3.8/site-packages (from supervision) (10.2.0)\n",
      "Requirement already satisfied: pyyaml>=5.3 in /Users/vandarag/anaconda3/envs/testcv/lib/python3.8/site-packages (from supervision) (6.0.1)\n",
      "Requirement already satisfied: scipy>=1.9.0 in /Users/vandarag/anaconda3/envs/testcv/lib/python3.8/site-packages (from supervision) (1.10.1)\n",
      "Requirement already satisfied: contourpy>=1.0.1 in /Users/vandarag/anaconda3/envs/testcv/lib/python3.8/site-packages (from matplotlib>=3.5.0->supervision) (1.1.1)\n",
      "Requirement already satisfied: cycler>=0.10 in /Users/vandarag/anaconda3/envs/testcv/lib/python3.8/site-packages (from matplotlib>=3.5.0->supervision) (0.12.1)\n",
      "Requirement already satisfied: fonttools>=4.22.0 in /Users/vandarag/anaconda3/envs/testcv/lib/python3.8/site-packages (from matplotlib>=3.5.0->supervision) (4.47.0)\n",
      "Requirement already satisfied: kiwisolver>=1.0.1 in /Users/vandarag/anaconda3/envs/testcv/lib/python3.8/site-packages (from matplotlib>=3.5.0->supervision) (1.4.5)\n",
      "Requirement already satisfied: packaging>=20.0 in /Users/vandarag/anaconda3/envs/testcv/lib/python3.8/site-packages (from matplotlib>=3.5.0->supervision) (23.2)\n",
      "Requirement already satisfied: pyparsing>=2.3.1 in /Users/vandarag/anaconda3/envs/testcv/lib/python3.8/site-packages (from matplotlib>=3.5.0->supervision) (3.1.1)\n",
      "Requirement already satisfied: python-dateutil>=2.7 in /Users/vandarag/anaconda3/envs/testcv/lib/python3.8/site-packages (from matplotlib>=3.5.0->supervision) (2.8.2)\n",
      "Requirement already satisfied: importlib-resources>=3.2.0 in /Users/vandarag/anaconda3/envs/testcv/lib/python3.8/site-packages (from matplotlib>=3.5.0->supervision) (6.1.1)\n",
      "Requirement already satisfied: zipp>=3.1.0 in /Users/vandarag/anaconda3/envs/testcv/lib/python3.8/site-packages (from importlib-resources>=3.2.0->matplotlib>=3.5.0->supervision) (3.17.0)\n",
      "Requirement already satisfied: six>=1.5 in /Users/vandarag/anaconda3/envs/testcv/lib/python3.8/site-packages (from python-dateutil>=2.7->matplotlib>=3.5.0->supervision) (1.16.0)\n",
      "Note: you may need to restart the kernel to use updated packages.\n",
      "Requirement already satisfied: ultralytics in /Users/vandarag/anaconda3/envs/testcv/lib/python3.8/site-packages (8.0.235)\n",
      "Requirement already satisfied: matplotlib>=3.3.0 in /Users/vandarag/anaconda3/envs/testcv/lib/python3.8/site-packages (from ultralytics) (3.7.4)\n",
      "Requirement already satisfied: numpy>=1.22.2 in /Users/vandarag/anaconda3/envs/testcv/lib/python3.8/site-packages (from ultralytics) (1.22.3)\n",
      "Requirement already satisfied: opencv-python>=4.6.0 in /Users/vandarag/anaconda3/envs/testcv/lib/python3.8/site-packages (from ultralytics) (4.9.0.80)\n",
      "Requirement already satisfied: pillow>=7.1.2 in /Users/vandarag/anaconda3/envs/testcv/lib/python3.8/site-packages (from ultralytics) (10.2.0)\n",
      "Requirement already satisfied: pyyaml>=5.3.1 in /Users/vandarag/anaconda3/envs/testcv/lib/python3.8/site-packages (from ultralytics) (6.0.1)\n",
      "Requirement already satisfied: requests>=2.23.0 in /Users/vandarag/anaconda3/envs/testcv/lib/python3.8/site-packages (from ultralytics) (2.31.0)\n",
      "Requirement already satisfied: scipy>=1.4.1 in /Users/vandarag/anaconda3/envs/testcv/lib/python3.8/site-packages (from ultralytics) (1.10.1)\n",
      "Requirement already satisfied: torch>=1.8.0 in /Users/vandarag/anaconda3/envs/testcv/lib/python3.8/site-packages (from ultralytics) (2.1.2)\n",
      "Requirement already satisfied: torchvision>=0.9.0 in /Users/vandarag/anaconda3/envs/testcv/lib/python3.8/site-packages (from ultralytics) (0.16.2)\n",
      "Requirement already satisfied: tqdm>=4.64.0 in /Users/vandarag/anaconda3/envs/testcv/lib/python3.8/site-packages (from ultralytics) (4.66.1)\n",
      "Requirement already satisfied: psutil in /Users/vandarag/anaconda3/envs/testcv/lib/python3.8/site-packages (from ultralytics) (5.9.0)\n",
      "Requirement already satisfied: py-cpuinfo in /Users/vandarag/anaconda3/envs/testcv/lib/python3.8/site-packages (from ultralytics) (9.0.0)\n",
      "Requirement already satisfied: thop>=0.1.1 in /Users/vandarag/anaconda3/envs/testcv/lib/python3.8/site-packages (from ultralytics) (0.1.1.post2209072238)\n",
      "Requirement already satisfied: pandas>=1.1.4 in /Users/vandarag/anaconda3/envs/testcv/lib/python3.8/site-packages (from ultralytics) (2.0.3)\n",
      "Requirement already satisfied: seaborn>=0.11.0 in /Users/vandarag/anaconda3/envs/testcv/lib/python3.8/site-packages (from ultralytics) (0.13.1)\n",
      "Requirement already satisfied: contourpy>=1.0.1 in /Users/vandarag/anaconda3/envs/testcv/lib/python3.8/site-packages (from matplotlib>=3.3.0->ultralytics) (1.1.1)\n",
      "Requirement already satisfied: cycler>=0.10 in /Users/vandarag/anaconda3/envs/testcv/lib/python3.8/site-packages (from matplotlib>=3.3.0->ultralytics) (0.12.1)\n",
      "Requirement already satisfied: fonttools>=4.22.0 in /Users/vandarag/anaconda3/envs/testcv/lib/python3.8/site-packages (from matplotlib>=3.3.0->ultralytics) (4.47.0)\n",
      "Requirement already satisfied: kiwisolver>=1.0.1 in /Users/vandarag/anaconda3/envs/testcv/lib/python3.8/site-packages (from matplotlib>=3.3.0->ultralytics) (1.4.5)\n",
      "Requirement already satisfied: packaging>=20.0 in /Users/vandarag/anaconda3/envs/testcv/lib/python3.8/site-packages (from matplotlib>=3.3.0->ultralytics) (23.2)\n",
      "Requirement already satisfied: pyparsing>=2.3.1 in /Users/vandarag/anaconda3/envs/testcv/lib/python3.8/site-packages (from matplotlib>=3.3.0->ultralytics) (3.1.1)\n",
      "Requirement already satisfied: python-dateutil>=2.7 in /Users/vandarag/anaconda3/envs/testcv/lib/python3.8/site-packages (from matplotlib>=3.3.0->ultralytics) (2.8.2)\n",
      "Requirement already satisfied: importlib-resources>=3.2.0 in /Users/vandarag/anaconda3/envs/testcv/lib/python3.8/site-packages (from matplotlib>=3.3.0->ultralytics) (6.1.1)\n",
      "Requirement already satisfied: pytz>=2020.1 in /Users/vandarag/anaconda3/envs/testcv/lib/python3.8/site-packages (from pandas>=1.1.4->ultralytics) (2023.3.post1)\n",
      "Requirement already satisfied: tzdata>=2022.1 in /Users/vandarag/anaconda3/envs/testcv/lib/python3.8/site-packages (from pandas>=1.1.4->ultralytics) (2023.4)\n",
      "Requirement already satisfied: charset-normalizer<4,>=2 in /Users/vandarag/anaconda3/envs/testcv/lib/python3.8/site-packages (from requests>=2.23.0->ultralytics) (3.3.2)\n",
      "Requirement already satisfied: idna<4,>=2.5 in /Users/vandarag/anaconda3/envs/testcv/lib/python3.8/site-packages (from requests>=2.23.0->ultralytics) (3.6)\n",
      "Requirement already satisfied: urllib3<3,>=1.21.1 in /Users/vandarag/anaconda3/envs/testcv/lib/python3.8/site-packages (from requests>=2.23.0->ultralytics) (2.1.0)\n",
      "Requirement already satisfied: certifi>=2017.4.17 in /Users/vandarag/anaconda3/envs/testcv/lib/python3.8/site-packages (from requests>=2.23.0->ultralytics) (2023.11.17)\n",
      "Requirement already satisfied: filelock in /Users/vandarag/anaconda3/envs/testcv/lib/python3.8/site-packages (from torch>=1.8.0->ultralytics) (3.13.1)\n",
      "Requirement already satisfied: typing-extensions in /Users/vandarag/anaconda3/envs/testcv/lib/python3.8/site-packages (from torch>=1.8.0->ultralytics) (4.9.0)\n",
      "Requirement already satisfied: sympy in /Users/vandarag/anaconda3/envs/testcv/lib/python3.8/site-packages (from torch>=1.8.0->ultralytics) (1.12)\n",
      "Requirement already satisfied: networkx in /Users/vandarag/anaconda3/envs/testcv/lib/python3.8/site-packages (from torch>=1.8.0->ultralytics) (3.1)\n",
      "Requirement already satisfied: jinja2 in /Users/vandarag/anaconda3/envs/testcv/lib/python3.8/site-packages (from torch>=1.8.0->ultralytics) (3.1.2)\n",
      "Requirement already satisfied: fsspec in /Users/vandarag/anaconda3/envs/testcv/lib/python3.8/site-packages (from torch>=1.8.0->ultralytics) (2023.12.2)\n",
      "Requirement already satisfied: zipp>=3.1.0 in /Users/vandarag/anaconda3/envs/testcv/lib/python3.8/site-packages (from importlib-resources>=3.2.0->matplotlib>=3.3.0->ultralytics) (3.17.0)\n",
      "Requirement already satisfied: six>=1.5 in /Users/vandarag/anaconda3/envs/testcv/lib/python3.8/site-packages (from python-dateutil>=2.7->matplotlib>=3.3.0->ultralytics) (1.16.0)\n",
      "Requirement already satisfied: MarkupSafe>=2.0 in /Users/vandarag/anaconda3/envs/testcv/lib/python3.8/site-packages (from jinja2->torch>=1.8.0->ultralytics) (2.1.3)\n",
      "Requirement already satisfied: mpmath>=0.19 in /Users/vandarag/anaconda3/envs/testcv/lib/python3.8/site-packages (from sympy->torch>=1.8.0->ultralytics) (1.3.0)\n",
      "Note: you may need to restart the kernel to use updated packages.\n"
     ]
    }
   ],
   "source": [
    "# importing lybraries\n",
    "%pip install opencv-python\n",
    "%pip install supervision\n",
    "%pip install ultralytics\n",
    "import cv2\n",
    "import supervision as sv\n",
    "from ultralytics import YOLO"
   ]
  },
  {
   "cell_type": "code",
   "execution_count": 30,
   "metadata": {},
   "outputs": [],
   "source": [
    "def live_object_detection():\n",
    "    '''Function for the live detection'''\n",
    "\n",
    "    # Initialize the camera\n",
    "    cap = cv2.VideoCapture(0)\n",
    "\n",
    "    # Load YOLO model\n",
    "    model = YOLO(\"yolov8n.pt\")\n",
    "\n",
    "    # Initialize the box annotator for visualizing detections\n",
    "    box_annotator = sv.BoxAnnotator(\n",
    "        thickness=2,\n",
    "        text_thickness=2,\n",
    "        text_scale=1\n",
    "    )\n",
    "\n",
    "    # Main loop for live object detection\n",
    "    while True:\n",
    "        # Capture a frame from the camera\n",
    "        ret, frame = cap.read()\n",
    "\n",
    "        # Perform object detection using YOLO\n",
    "        data = model(frame)\n",
    "        detection = sv.Detections.from_ultralytics(data[0])\n",
    "\n",
    "        # Extract labels and confidence scores for the detected objects\n",
    "        label = [f\"{model.model.names[ci]} {con:0.2f}\"\n",
    "                 for _, _, con, ci, _ in detection]\n",
    "\n",
    "        # Check if the frame was captured successfully\n",
    "        if not ret:\n",
    "            print(\"Error: Failed to grab frame.\")\n",
    "            break\n",
    "\n",
    "        # Annotate the frame with bounding boxes and labels\n",
    "        frame = box_annotator.annotate(scene=frame, detections=detection, labels=label)\n",
    "\n",
    "        # Display the live camera feed with object detection annotations\n",
    "        cv2.imshow(\"Live Object Detection\", frame)\n",
    "\n",
    "        # Exit the loop if the 'q' key is pressed\n",
    "        if cv2.waitKey(1) & 0xFF == ord('q'):\n",
    "            break\n",
    "\n",
    "    # Release the camera and close the OpenCV window\n",
    "    cap.release()\n",
    "    cv2.destroyAllWindows()"
   ]
  },
  {
   "cell_type": "code",
   "execution_count": 32,
   "metadata": {},
   "outputs": [
    {
     "name": "stdout",
     "output_type": "stream",
     "text": [
      "WARNING ⚠️ 'source' is missing. Using 'source=/Users/vandarag/anaconda3/envs/testcv/lib/python3.8/site-packages/ultralytics/assets'.\n",
      "\n",
      "image 1/2 /Users/vandarag/anaconda3/envs/testcv/lib/python3.8/site-packages/ultralytics/assets/bus.jpg: 640x480 4 persons, 1 bus, 1 stop sign, 61.1ms\n",
      "image 2/2 /Users/vandarag/anaconda3/envs/testcv/lib/python3.8/site-packages/ultralytics/assets/zidane.jpg: 384x640 2 persons, 1 tie, 46.7ms\n",
      "Speed: 1.5ms preprocess, 53.9ms inference, 0.6ms postprocess per image at shape (1, 3, 384, 640)\n",
      "Error: Failed to grab frame.\n"
     ]
    }
   ],
   "source": [
    "live_object_detection()"
   ]
  },
  {
   "cell_type": "code",
   "execution_count": 1,
   "metadata": {},
   "outputs": [
    {
     "name": "stdout",
     "output_type": "stream",
     "text": [
      "Collecting roboflow\n",
      "  Using cached roboflow-1.1.16-py3-none-any.whl.metadata (9.3 kB)\n",
      "Collecting certifi==2023.7.22 (from roboflow)\n",
      "  Using cached certifi-2023.7.22-py3-none-any.whl.metadata (2.2 kB)\n",
      "Collecting chardet==4.0.0 (from roboflow)\n",
      "  Using cached chardet-4.0.0-py2.py3-none-any.whl (178 kB)\n",
      "Collecting cycler==0.10.0 (from roboflow)\n",
      "  Using cached cycler-0.10.0-py2.py3-none-any.whl (6.5 kB)\n",
      "Collecting idna==2.10 (from roboflow)\n",
      "  Using cached idna-2.10-py2.py3-none-any.whl (58 kB)\n",
      "Requirement already satisfied: kiwisolver>=1.3.1 in /Users/vandarag/anaconda3/envs/testcv/lib/python3.8/site-packages (from roboflow) (1.4.5)\n",
      "Requirement already satisfied: matplotlib in /Users/vandarag/anaconda3/envs/testcv/lib/python3.8/site-packages (from roboflow) (3.7.4)\n",
      "Requirement already satisfied: numpy>=1.18.5 in /Users/vandarag/anaconda3/envs/testcv/lib/python3.8/site-packages (from roboflow) (1.22.3)\n",
      "Collecting opencv-python-headless==4.8.0.74 (from roboflow)\n",
      "  Using cached opencv_python_headless-4.8.0.74-cp37-abi3-macosx_11_0_arm64.whl.metadata (19 kB)\n",
      "Requirement already satisfied: Pillow>=7.1.2 in /Users/vandarag/anaconda3/envs/testcv/lib/python3.8/site-packages (from roboflow) (10.2.0)\n",
      "Requirement already satisfied: python-dateutil in /Users/vandarag/anaconda3/envs/testcv/lib/python3.8/site-packages (from roboflow) (2.8.2)\n",
      "Collecting python-dotenv (from roboflow)\n",
      "  Using cached python_dotenv-1.0.0-py3-none-any.whl (19 kB)\n",
      "Requirement already satisfied: requests in /Users/vandarag/anaconda3/envs/testcv/lib/python3.8/site-packages (from roboflow) (2.31.0)\n",
      "Requirement already satisfied: six in /Users/vandarag/anaconda3/envs/testcv/lib/python3.8/site-packages (from roboflow) (1.16.0)\n",
      "Requirement already satisfied: supervision in /Users/vandarag/anaconda3/envs/testcv/lib/python3.8/site-packages (from roboflow) (0.17.1)\n",
      "Requirement already satisfied: urllib3>=1.26.6 in /Users/vandarag/anaconda3/envs/testcv/lib/python3.8/site-packages (from roboflow) (2.1.0)\n",
      "Requirement already satisfied: tqdm>=4.41.0 in /Users/vandarag/anaconda3/envs/testcv/lib/python3.8/site-packages (from roboflow) (4.66.1)\n",
      "Requirement already satisfied: PyYAML>=5.3.1 in /Users/vandarag/anaconda3/envs/testcv/lib/python3.8/site-packages (from roboflow) (6.0.1)\n",
      "Collecting requests-toolbelt (from roboflow)\n",
      "  Using cached requests_toolbelt-1.0.0-py2.py3-none-any.whl (54 kB)\n",
      "Collecting python-magic (from roboflow)\n",
      "  Using cached python_magic-0.4.27-py2.py3-none-any.whl (13 kB)\n",
      "Requirement already satisfied: contourpy>=1.0.1 in /Users/vandarag/anaconda3/envs/testcv/lib/python3.8/site-packages (from matplotlib->roboflow) (1.1.1)\n",
      "Requirement already satisfied: fonttools>=4.22.0 in /Users/vandarag/anaconda3/envs/testcv/lib/python3.8/site-packages (from matplotlib->roboflow) (4.47.0)\n",
      "Requirement already satisfied: packaging>=20.0 in /Users/vandarag/anaconda3/envs/testcv/lib/python3.8/site-packages (from matplotlib->roboflow) (23.2)\n",
      "Requirement already satisfied: pyparsing>=2.3.1 in /Users/vandarag/anaconda3/envs/testcv/lib/python3.8/site-packages (from matplotlib->roboflow) (3.1.1)\n",
      "Requirement already satisfied: importlib-resources>=3.2.0 in /Users/vandarag/anaconda3/envs/testcv/lib/python3.8/site-packages (from matplotlib->roboflow) (6.1.1)\n",
      "Requirement already satisfied: charset-normalizer<4,>=2 in /Users/vandarag/anaconda3/envs/testcv/lib/python3.8/site-packages (from requests->roboflow) (3.3.2)\n",
      "Requirement already satisfied: scipy>=1.9.0 in /Users/vandarag/anaconda3/envs/testcv/lib/python3.8/site-packages (from supervision->roboflow) (1.10.1)\n",
      "Requirement already satisfied: zipp>=3.1.0 in /Users/vandarag/anaconda3/envs/testcv/lib/python3.8/site-packages (from importlib-resources>=3.2.0->matplotlib->roboflow) (3.17.0)\n",
      "Using cached roboflow-1.1.16-py3-none-any.whl (69 kB)\n",
      "Using cached certifi-2023.7.22-py3-none-any.whl (158 kB)\n",
      "Using cached opencv_python_headless-4.8.0.74-cp37-abi3-macosx_11_0_arm64.whl (33.1 MB)\n",
      "Installing collected packages: python-magic, python-dotenv, opencv-python-headless, idna, cycler, chardet, certifi, requests-toolbelt, roboflow\n",
      "  Attempting uninstall: opencv-python-headless\n",
      "    Found existing installation: opencv-python-headless 4.8.1.78\n",
      "    Uninstalling opencv-python-headless-4.8.1.78:\n",
      "      Successfully uninstalled opencv-python-headless-4.8.1.78\n",
      "  Attempting uninstall: idna\n",
      "    Found existing installation: idna 3.6\n",
      "    Uninstalling idna-3.6:\n",
      "      Successfully uninstalled idna-3.6\n",
      "  Attempting uninstall: cycler\n",
      "    Found existing installation: cycler 0.12.1\n",
      "    Uninstalling cycler-0.12.1:\n",
      "      Successfully uninstalled cycler-0.12.1\n",
      "  Attempting uninstall: certifi\n",
      "    Found existing installation: certifi 2023.11.17\n",
      "    Uninstalling certifi-2023.11.17:\n",
      "      Successfully uninstalled certifi-2023.11.17\n",
      "Successfully installed certifi-2023.7.22 chardet-4.0.0 cycler-0.10.0 idna-2.10 opencv-python-headless-4.8.0.74 python-dotenv-1.0.0 python-magic-0.4.27 requests-toolbelt-1.0.0 roboflow-1.1.16\n",
      "Note: you may need to restart the kernel to use updated packages.\n",
      "loading Roboflow workspace...\n",
      "loading Roboflow project...\n",
      "Dependency ultralytics==8.0.196 is required but found version=8.0.235, to fix: `pip install ultralytics==8.0.196`\n"
     ]
    },
    {
     "name": "stderr",
     "output_type": "stream",
     "text": [
      "Downloading Dataset Version Zip in olo-1 to yolov8:: 100%|██████████| 5315/5315 [00:01<00:00, 2864.75it/s]"
     ]
    },
    {
     "name": "stdout",
     "output_type": "stream",
     "text": [
      "\n"
     ]
    },
    {
     "name": "stderr",
     "output_type": "stream",
     "text": [
      "\n",
      "Extracting Dataset Version Zip to olo-1 in yolov8:: 100%|██████████| 272/272 [00:00<00:00, 4846.15it/s]\n"
     ]
    }
   ],
   "source": [
    "%pip install roboflow\n",
    "\n",
    "from roboflow import Roboflow\n",
    "rf = Roboflow(api_key=\"vPEc18BWVQibXdVf6rZV\")\n",
    "project = rf.workspace(\"a-dom\").project(\"olo\")\n",
    "dataset = project.version(1).download(\"yolov8\")\n"
   ]
  }
 ],
 "metadata": {
  "kernelspec": {
   "display_name": "base",
   "language": "python",
   "name": "python3"
  },
  "language_info": {
   "codemirror_mode": {
    "name": "ipython",
    "version": 3
   },
   "file_extension": ".py",
   "mimetype": "text/x-python",
   "name": "python",
   "nbconvert_exporter": "python",
   "pygments_lexer": "ipython3",
   "version": "3.8.18"
  },
  "orig_nbformat": 4
 },
 "nbformat": 4,
 "nbformat_minor": 2
}
